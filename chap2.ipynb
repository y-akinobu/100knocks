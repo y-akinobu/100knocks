{
 "nbformat": 4,
 "nbformat_minor": 2,
 "metadata": {
  "language_info": {
   "name": "python",
   "codemirror_mode": {
    "name": "ipython",
    "version": 3
   },
   "version": "3.7.6-final"
  },
  "orig_nbformat": 2,
  "file_extension": ".py",
  "mimetype": "text/x-python",
  "name": "python",
  "npconvert_exporter": "python",
  "pygments_lexer": "ipython3",
  "version": 3,
  "kernelspec": {
   "name": "python37664bit376pyenvd6b3dd1e17664cdb9900a5eb76883608",
   "display_name": "Python 3.7.6 64-bit ('3.7.6': pyenv)"
  }
 },
 "cells": [
  {
   "cell_type": "markdown",
   "metadata": {},
   "source": [
    "## 第2章: UNIXコマンドの基礎\n",
    "hightemp.txtは，日本の最高気温の記録を「都道府県」「地点」「℃」「日」のタブ区切り形式で格納したファイルである．以下の処理を行うプログラムを作成し，hightemp.txtを入力ファイルとして実行せよ．さらに，同様の処理をUNIXコマンドでも実行し，プログラムの実行結果を確認せよ．\n",
    "\n",
    "### 10. 行数のカウント\n",
    "行数をカウントせよ．確認にはwcコマンドを用いよ．"
   ]
  },
  {
   "cell_type": "code",
   "execution_count": 3,
   "metadata": {},
   "outputs": [
    {
     "output_type": "stream",
     "name": "stdout",
     "text": "length 24\n"
    }
   ],
   "source": [
    "f = open('hightemp.txt', 'r')\n",
    "print('length', len(f.readlines()))\n",
    "\n",
    "f.close()"
   ]
  },
  {
   "cell_type": "markdown",
   "metadata": {},
   "source": [
    "### 11. タブをスペースに置換\n",
    "タブ1文字につきスペース1文字に置換せよ．確認にはsedコマンド，trコマンド，もしくはexpandコマンドを用いよ．"
   ]
  },
  {
   "cell_type": "code",
   "execution_count": 4,
   "metadata": {},
   "outputs": [
    {
     "output_type": "stream",
     "name": "stdout",
     "text": "高知県 江川崎 41 2013-08-12\n\n埼玉県 熊谷 40.9 2007-08-16\n\n岐阜県 多治見 40.9 2007-08-16\n\n山形県 山形 40.8 1933-07-25\n\n山梨県 甲府 40.7 2013-08-10\n\n和歌山県 かつらぎ 40.6 1994-08-08\n\n静岡県 天竜 40.6 1994-08-04\n\n山梨県 勝沼 40.5 2013-08-10\n\n埼玉県 越谷 40.4 2007-08-16\n\n群馬県 館林 40.3 2007-08-16\n\n群馬県 上里見 40.3 1998-07-04\n\n愛知県 愛西 40.3 1994-08-05\n\n千葉県 牛久 40.2 2004-07-20\n\n静岡県 佐久間 40.2 2001-07-24\n\n愛媛県 宇和島 40.2 1927-07-22\n\n山形県 酒田 40.1 1978-08-03\n\n岐阜県 美濃 40 2007-08-16\n\n群馬県 前橋 40 2001-07-24\n\n千葉県 茂原 39.9 2013-08-11\n\n埼玉県 鳩山 39.9 1997-07-05\n\n大阪府 豊中 39.9 1994-08-08\n\n山梨県 大月 39.9 1990-07-19\n\n山形県 鶴岡 39.9 1978-08-03\n\n愛知県 名古屋 39.9 1942-08-02\n\n"
    }
   ],
   "source": [
    "with open('hightemp.txt') as data_file:\n",
    "    for line in data_file:\n",
    "        print(line.replace('\\t', ' '))"
   ]
  },
  {
   "cell_type": "markdown",
   "metadata": {},
   "source": [
    "### 12. 1列目をcol1.txtに，2列目をcol2.txtに保存\n",
    "各行の1列目だけを抜き出したものをcol1.txtに，2列目だけを抜き出したものをcol2.txtとしてファイルに保存せよ．確認にはcutコマンドを用いよ．"
   ]
  },
  {
   "cell_type": "code",
   "execution_count": 6,
   "metadata": {},
   "outputs": [],
   "source": [
    "with open('hightemp.txt') as data_file, open('col1.txt', mode='w') as col1_file, open('col2.txt', mode='w') as col2_file:\n",
    "    for line in data_file:\n",
    "        cols = line.split('\\t')\n",
    "        col1_file.write(cols[0] + '\\n')\n",
    "        col2_file.write(cols[1] + '\\n')"
   ]
  },
  {
   "cell_type": "markdown",
   "metadata": {},
   "source": [
    "### 13. col1.txtとcol2.txtをマージ\n",
    "12で作ったcol1.txtとcol2.txtを結合し，元のファイルの1列目と2列目をタブ区切りで並べたテキストファイルを作成せよ．確認にはpasteコマンドを用いよ．"
   ]
  },
  {
   "cell_type": "code",
   "execution_count": 7,
   "metadata": {},
   "outputs": [],
   "source": [
    "with open('col1.txt') as col1_file, open('col2.txt') as col2_file, open('merge.txt', mode='w') as out_file:\n",
    "    for col1_line, col2_line in zip(col1_file, col2_file):\n",
    "        out_file.write(col1_line.rstrip() + '\\t' + col2_line.rstrip() + '\\n')"
   ]
  },
  {
   "cell_type": "markdown",
   "metadata": {},
   "source": [
    "### 14. 先頭からN行を出力\n",
    "自然数Nをコマンドライン引数などの手段で受け取り，入力のうち先頭のN行だけを表示せよ．確認にはheadコマンドを用いよ．"
   ]
  },
  {
   "cell_type": "code",
   "execution_count": 12,
   "metadata": {},
   "outputs": [
    {
     "output_type": "stream",
     "name": "stdout",
     "text": "高知県\t江川崎\t41\t2013-08-12\n埼玉県\t熊谷\t40.9\t2007-08-16\n岐阜県\t多治見\t40.9\t2007-08-16\n"
    }
   ],
   "source": [
    "n = int(input('N行目までを表示します'))\n",
    "with open('hightemp.txt') as data_file:\n",
    "    for i, line in enumerate(data_file):\n",
    "        if i>=n:\n",
    "            break\n",
    "        print(line.rstrip())"
   ]
  },
  {
   "cell_type": "markdown",
   "metadata": {},
   "source": [
    "### 15. 末尾のN行を出力\n",
    "自然数Nをコマンドライン引数などの手段で受け取り，入力のうち末尾のN行だけを表示せよ．確認にはtailコマンドを用いよ．"
   ]
  },
  {
   "cell_type": "code",
   "execution_count": null,
   "metadata": {},
   "outputs": [],
   "source": []
  },
  {
   "cell_type": "markdown",
   "metadata": {},
   "source": [
    "### 16. ファイルをN分割する\n",
    "自然数Nをコマンドライン引数などの手段で受け取り，入力のファイルを行単位でN分割せよ．同様の処理をsplitコマンドで実現せよ．"
   ]
  },
  {
   "cell_type": "code",
   "execution_count": null,
   "metadata": {},
   "outputs": [],
   "source": []
  },
  {
   "cell_type": "markdown",
   "metadata": {},
   "source": [
    "### 17. １列目の文字列の異なり\n",
    "1列目の文字列の種類（異なる文字列の集合）を求めよ．確認にはsort, uniqコマンドを用いよ．"
   ]
  },
  {
   "cell_type": "code",
   "execution_count": null,
   "metadata": {},
   "outputs": [],
   "source": []
  },
  {
   "cell_type": "markdown",
   "metadata": {},
   "source": [
    "### 18. 各行を3コラム目の数値の降順にソート\n",
    "各行を3コラム目の数値の逆順で整列せよ（注意: 各行の内容は変更せずに並び替えよ）．確認にはsortコマンドを用いよ（この問題はコマンドで実行した時の結果と合わなくてもよい）．"
   ]
  },
  {
   "cell_type": "code",
   "execution_count": null,
   "metadata": {},
   "outputs": [],
   "source": []
  },
  {
   "cell_type": "markdown",
   "metadata": {},
   "source": [
    "### 19. 各行の1コラム目の文字列の出現頻度を求め，出現頻度の高い順に並べる\n",
    "各行の1列目の文字列の出現頻度を求め，その高い順に並べて表示せよ．確認にはcut, uniq, sortコマンドを用いよ．"
   ]
  },
  {
   "cell_type": "code",
   "execution_count": null,
   "metadata": {},
   "outputs": [],
   "source": []
  }
 ]
}